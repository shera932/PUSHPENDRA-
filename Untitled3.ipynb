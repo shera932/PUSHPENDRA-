{
  "nbformat": 4,
  "nbformat_minor": 0,
  "metadata": {
    "colab": {
      "provenance": [],
      "authorship_tag": "ABX9TyNywfu22KAX7CVbYQUVZY5O",
      "include_colab_link": true
    },
    "kernelspec": {
      "name": "python3",
      "display_name": "Python 3"
    },
    "language_info": {
      "name": "python"
    }
  },
  "cells": [
    {
      "cell_type": "markdown",
      "metadata": {
        "id": "view-in-github",
        "colab_type": "text"
      },
      "source": [
        "<a href=\"https://colab.research.google.com/github/shera932/PUSHPENDRA-/blob/main/Untitled3.ipynb\" target=\"_parent\"><img src=\"https://colab.research.google.com/assets/colab-badge.svg\" alt=\"Open In Colab\"/></a>"
      ]
    },
    {
      "cell_type": "code",
      "execution_count": 1,
      "metadata": {
        "id": "tTiNvWESqr4g"
      },
      "outputs": [],
      "source": [
        "import numpy as np\n",
        "import matplotlib.pyplot as plt\n",
        "import pandas as pd\n"
      ]
    },
    {
      "cell_type": "code",
      "source": [
        "url=\"https://archive.ics.uci.edu/ml/machine-learning-databases/iris/iris.data\"\n",
        "names=['sepal-length','sepal-width','petal-length','petal-width','Class']\n",
        "dataset=pd.read_csv(url,names=names)"
      ],
      "metadata": {
        "id": "QDEnIU53rrJr"
      },
      "execution_count": 3,
      "outputs": []
    },
    {
      "cell_type": "code",
      "source": [
        "dataset.head()"
      ],
      "metadata": {
        "colab": {
          "base_uri": "https://localhost:8080/",
          "height": 206
        },
        "id": "_32OBouyrrNn",
        "outputId": "3e216204-1352-4f52-8d72-bc947a64799e"
      },
      "execution_count": 4,
      "outputs": [
        {
          "output_type": "execute_result",
          "data": {
            "text/plain": [
              "   sepal-length  sepal-width  petal-length  petal-width        Class\n",
              "0           5.1          3.5           1.4          0.2  Iris-setosa\n",
              "1           4.9          3.0           1.4          0.2  Iris-setosa\n",
              "2           4.7          3.2           1.3          0.2  Iris-setosa\n",
              "3           4.6          3.1           1.5          0.2  Iris-setosa\n",
              "4           5.0          3.6           1.4          0.2  Iris-setosa"
            ],
            "text/html": [
              "\n",
              "  <div id=\"df-18738e48-ff1d-498e-9c70-8ef7e09e137d\">\n",
              "    <div class=\"colab-df-container\">\n",
              "      <div>\n",
              "<style scoped>\n",
              "    .dataframe tbody tr th:only-of-type {\n",
              "        vertical-align: middle;\n",
              "    }\n",
              "\n",
              "    .dataframe tbody tr th {\n",
              "        vertical-align: top;\n",
              "    }\n",
              "\n",
              "    .dataframe thead th {\n",
              "        text-align: right;\n",
              "    }\n",
              "</style>\n",
              "<table border=\"1\" class=\"dataframe\">\n",
              "  <thead>\n",
              "    <tr style=\"text-align: right;\">\n",
              "      <th></th>\n",
              "      <th>sepal-length</th>\n",
              "      <th>sepal-width</th>\n",
              "      <th>petal-length</th>\n",
              "      <th>petal-width</th>\n",
              "      <th>Class</th>\n",
              "    </tr>\n",
              "  </thead>\n",
              "  <tbody>\n",
              "    <tr>\n",
              "      <th>0</th>\n",
              "      <td>5.1</td>\n",
              "      <td>3.5</td>\n",
              "      <td>1.4</td>\n",
              "      <td>0.2</td>\n",
              "      <td>Iris-setosa</td>\n",
              "    </tr>\n",
              "    <tr>\n",
              "      <th>1</th>\n",
              "      <td>4.9</td>\n",
              "      <td>3.0</td>\n",
              "      <td>1.4</td>\n",
              "      <td>0.2</td>\n",
              "      <td>Iris-setosa</td>\n",
              "    </tr>\n",
              "    <tr>\n",
              "      <th>2</th>\n",
              "      <td>4.7</td>\n",
              "      <td>3.2</td>\n",
              "      <td>1.3</td>\n",
              "      <td>0.2</td>\n",
              "      <td>Iris-setosa</td>\n",
              "    </tr>\n",
              "    <tr>\n",
              "      <th>3</th>\n",
              "      <td>4.6</td>\n",
              "      <td>3.1</td>\n",
              "      <td>1.5</td>\n",
              "      <td>0.2</td>\n",
              "      <td>Iris-setosa</td>\n",
              "    </tr>\n",
              "    <tr>\n",
              "      <th>4</th>\n",
              "      <td>5.0</td>\n",
              "      <td>3.6</td>\n",
              "      <td>1.4</td>\n",
              "      <td>0.2</td>\n",
              "      <td>Iris-setosa</td>\n",
              "    </tr>\n",
              "  </tbody>\n",
              "</table>\n",
              "</div>\n",
              "      <button class=\"colab-df-convert\" onclick=\"convertToInteractive('df-18738e48-ff1d-498e-9c70-8ef7e09e137d')\"\n",
              "              title=\"Convert this dataframe to an interactive table.\"\n",
              "              style=\"display:none;\">\n",
              "        \n",
              "  <svg xmlns=\"http://www.w3.org/2000/svg\" height=\"24px\"viewBox=\"0 0 24 24\"\n",
              "       width=\"24px\">\n",
              "    <path d=\"M0 0h24v24H0V0z\" fill=\"none\"/>\n",
              "    <path d=\"M18.56 5.44l.94 2.06.94-2.06 2.06-.94-2.06-.94-.94-2.06-.94 2.06-2.06.94zm-11 1L8.5 8.5l.94-2.06 2.06-.94-2.06-.94L8.5 2.5l-.94 2.06-2.06.94zm10 10l.94 2.06.94-2.06 2.06-.94-2.06-.94-.94-2.06-.94 2.06-2.06.94z\"/><path d=\"M17.41 7.96l-1.37-1.37c-.4-.4-.92-.59-1.43-.59-.52 0-1.04.2-1.43.59L10.3 9.45l-7.72 7.72c-.78.78-.78 2.05 0 2.83L4 21.41c.39.39.9.59 1.41.59.51 0 1.02-.2 1.41-.59l7.78-7.78 2.81-2.81c.8-.78.8-2.07 0-2.86zM5.41 20L4 18.59l7.72-7.72 1.47 1.35L5.41 20z\"/>\n",
              "  </svg>\n",
              "      </button>\n",
              "      \n",
              "  <style>\n",
              "    .colab-df-container {\n",
              "      display:flex;\n",
              "      flex-wrap:wrap;\n",
              "      gap: 12px;\n",
              "    }\n",
              "\n",
              "    .colab-df-convert {\n",
              "      background-color: #E8F0FE;\n",
              "      border: none;\n",
              "      border-radius: 50%;\n",
              "      cursor: pointer;\n",
              "      display: none;\n",
              "      fill: #1967D2;\n",
              "      height: 32px;\n",
              "      padding: 0 0 0 0;\n",
              "      width: 32px;\n",
              "    }\n",
              "\n",
              "    .colab-df-convert:hover {\n",
              "      background-color: #E2EBFA;\n",
              "      box-shadow: 0px 1px 2px rgba(60, 64, 67, 0.3), 0px 1px 3px 1px rgba(60, 64, 67, 0.15);\n",
              "      fill: #174EA6;\n",
              "    }\n",
              "\n",
              "    [theme=dark] .colab-df-convert {\n",
              "      background-color: #3B4455;\n",
              "      fill: #D2E3FC;\n",
              "    }\n",
              "\n",
              "    [theme=dark] .colab-df-convert:hover {\n",
              "      background-color: #434B5C;\n",
              "      box-shadow: 0px 1px 3px 1px rgba(0, 0, 0, 0.15);\n",
              "      filter: drop-shadow(0px 1px 2px rgba(0, 0, 0, 0.3));\n",
              "      fill: #FFFFFF;\n",
              "    }\n",
              "  </style>\n",
              "\n",
              "      <script>\n",
              "        const buttonEl =\n",
              "          document.querySelector('#df-18738e48-ff1d-498e-9c70-8ef7e09e137d button.colab-df-convert');\n",
              "        buttonEl.style.display =\n",
              "          google.colab.kernel.accessAllowed ? 'block' : 'none';\n",
              "\n",
              "        async function convertToInteractive(key) {\n",
              "          const element = document.querySelector('#df-18738e48-ff1d-498e-9c70-8ef7e09e137d');\n",
              "          const dataTable =\n",
              "            await google.colab.kernel.invokeFunction('convertToInteractive',\n",
              "                                                     [key], {});\n",
              "          if (!dataTable) return;\n",
              "\n",
              "          const docLinkHtml = 'Like what you see? Visit the ' +\n",
              "            '<a target=\"_blank\" href=https://colab.research.google.com/notebooks/data_table.ipynb>data table notebook</a>'\n",
              "            + ' to learn more about interactive tables.';\n",
              "          element.innerHTML = '';\n",
              "          dataTable['output_type'] = 'display_data';\n",
              "          await google.colab.output.renderOutput(dataTable, element);\n",
              "          const docLink = document.createElement('div');\n",
              "          docLink.innerHTML = docLinkHtml;\n",
              "          element.appendChild(docLink);\n",
              "        }\n",
              "      </script>\n",
              "    </div>\n",
              "  </div>\n",
              "  "
            ]
          },
          "metadata": {},
          "execution_count": 4
        }
      ]
    },
    {
      "cell_type": "code",
      "source": [
        "dataset.info()"
      ],
      "metadata": {
        "colab": {
          "base_uri": "https://localhost:8080/"
        },
        "id": "meZkNDovrrPe",
        "outputId": "67edbb70-0a2a-45af-fc2e-24a67bbba977"
      },
      "execution_count": 5,
      "outputs": [
        {
          "output_type": "stream",
          "name": "stdout",
          "text": [
            "<class 'pandas.core.frame.DataFrame'>\n",
            "RangeIndex: 150 entries, 0 to 149\n",
            "Data columns (total 5 columns):\n",
            " #   Column        Non-Null Count  Dtype  \n",
            "---  ------        --------------  -----  \n",
            " 0   sepal-length  150 non-null    float64\n",
            " 1   sepal-width   150 non-null    float64\n",
            " 2   petal-length  150 non-null    float64\n",
            " 3   petal-width   150 non-null    float64\n",
            " 4   Class         150 non-null    object \n",
            "dtypes: float64(4), object(1)\n",
            "memory usage: 6.0+ KB\n"
          ]
        }
      ]
    },
    {
      "cell_type": "code",
      "source": [
        "dataset.describe()"
      ],
      "metadata": {
        "colab": {
          "base_uri": "https://localhost:8080/",
          "height": 300
        },
        "id": "dmlAQXWHrrRh",
        "outputId": "7d317204-5683-4628-8a59-311ec8adba80"
      },
      "execution_count": 6,
      "outputs": [
        {
          "output_type": "execute_result",
          "data": {
            "text/plain": [
              "       sepal-length  sepal-width  petal-length  petal-width\n",
              "count    150.000000   150.000000    150.000000   150.000000\n",
              "mean       5.843333     3.054000      3.758667     1.198667\n",
              "std        0.828066     0.433594      1.764420     0.763161\n",
              "min        4.300000     2.000000      1.000000     0.100000\n",
              "25%        5.100000     2.800000      1.600000     0.300000\n",
              "50%        5.800000     3.000000      4.350000     1.300000\n",
              "75%        6.400000     3.300000      5.100000     1.800000\n",
              "max        7.900000     4.400000      6.900000     2.500000"
            ],
            "text/html": [
              "\n",
              "  <div id=\"df-a867b4c2-79c8-44c5-87c5-9ce3a6574391\">\n",
              "    <div class=\"colab-df-container\">\n",
              "      <div>\n",
              "<style scoped>\n",
              "    .dataframe tbody tr th:only-of-type {\n",
              "        vertical-align: middle;\n",
              "    }\n",
              "\n",
              "    .dataframe tbody tr th {\n",
              "        vertical-align: top;\n",
              "    }\n",
              "\n",
              "    .dataframe thead th {\n",
              "        text-align: right;\n",
              "    }\n",
              "</style>\n",
              "<table border=\"1\" class=\"dataframe\">\n",
              "  <thead>\n",
              "    <tr style=\"text-align: right;\">\n",
              "      <th></th>\n",
              "      <th>sepal-length</th>\n",
              "      <th>sepal-width</th>\n",
              "      <th>petal-length</th>\n",
              "      <th>petal-width</th>\n",
              "    </tr>\n",
              "  </thead>\n",
              "  <tbody>\n",
              "    <tr>\n",
              "      <th>count</th>\n",
              "      <td>150.000000</td>\n",
              "      <td>150.000000</td>\n",
              "      <td>150.000000</td>\n",
              "      <td>150.000000</td>\n",
              "    </tr>\n",
              "    <tr>\n",
              "      <th>mean</th>\n",
              "      <td>5.843333</td>\n",
              "      <td>3.054000</td>\n",
              "      <td>3.758667</td>\n",
              "      <td>1.198667</td>\n",
              "    </tr>\n",
              "    <tr>\n",
              "      <th>std</th>\n",
              "      <td>0.828066</td>\n",
              "      <td>0.433594</td>\n",
              "      <td>1.764420</td>\n",
              "      <td>0.763161</td>\n",
              "    </tr>\n",
              "    <tr>\n",
              "      <th>min</th>\n",
              "      <td>4.300000</td>\n",
              "      <td>2.000000</td>\n",
              "      <td>1.000000</td>\n",
              "      <td>0.100000</td>\n",
              "    </tr>\n",
              "    <tr>\n",
              "      <th>25%</th>\n",
              "      <td>5.100000</td>\n",
              "      <td>2.800000</td>\n",
              "      <td>1.600000</td>\n",
              "      <td>0.300000</td>\n",
              "    </tr>\n",
              "    <tr>\n",
              "      <th>50%</th>\n",
              "      <td>5.800000</td>\n",
              "      <td>3.000000</td>\n",
              "      <td>4.350000</td>\n",
              "      <td>1.300000</td>\n",
              "    </tr>\n",
              "    <tr>\n",
              "      <th>75%</th>\n",
              "      <td>6.400000</td>\n",
              "      <td>3.300000</td>\n",
              "      <td>5.100000</td>\n",
              "      <td>1.800000</td>\n",
              "    </tr>\n",
              "    <tr>\n",
              "      <th>max</th>\n",
              "      <td>7.900000</td>\n",
              "      <td>4.400000</td>\n",
              "      <td>6.900000</td>\n",
              "      <td>2.500000</td>\n",
              "    </tr>\n",
              "  </tbody>\n",
              "</table>\n",
              "</div>\n",
              "      <button class=\"colab-df-convert\" onclick=\"convertToInteractive('df-a867b4c2-79c8-44c5-87c5-9ce3a6574391')\"\n",
              "              title=\"Convert this dataframe to an interactive table.\"\n",
              "              style=\"display:none;\">\n",
              "        \n",
              "  <svg xmlns=\"http://www.w3.org/2000/svg\" height=\"24px\"viewBox=\"0 0 24 24\"\n",
              "       width=\"24px\">\n",
              "    <path d=\"M0 0h24v24H0V0z\" fill=\"none\"/>\n",
              "    <path d=\"M18.56 5.44l.94 2.06.94-2.06 2.06-.94-2.06-.94-.94-2.06-.94 2.06-2.06.94zm-11 1L8.5 8.5l.94-2.06 2.06-.94-2.06-.94L8.5 2.5l-.94 2.06-2.06.94zm10 10l.94 2.06.94-2.06 2.06-.94-2.06-.94-.94-2.06-.94 2.06-2.06.94z\"/><path d=\"M17.41 7.96l-1.37-1.37c-.4-.4-.92-.59-1.43-.59-.52 0-1.04.2-1.43.59L10.3 9.45l-7.72 7.72c-.78.78-.78 2.05 0 2.83L4 21.41c.39.39.9.59 1.41.59.51 0 1.02-.2 1.41-.59l7.78-7.78 2.81-2.81c.8-.78.8-2.07 0-2.86zM5.41 20L4 18.59l7.72-7.72 1.47 1.35L5.41 20z\"/>\n",
              "  </svg>\n",
              "      </button>\n",
              "      \n",
              "  <style>\n",
              "    .colab-df-container {\n",
              "      display:flex;\n",
              "      flex-wrap:wrap;\n",
              "      gap: 12px;\n",
              "    }\n",
              "\n",
              "    .colab-df-convert {\n",
              "      background-color: #E8F0FE;\n",
              "      border: none;\n",
              "      border-radius: 50%;\n",
              "      cursor: pointer;\n",
              "      display: none;\n",
              "      fill: #1967D2;\n",
              "      height: 32px;\n",
              "      padding: 0 0 0 0;\n",
              "      width: 32px;\n",
              "    }\n",
              "\n",
              "    .colab-df-convert:hover {\n",
              "      background-color: #E2EBFA;\n",
              "      box-shadow: 0px 1px 2px rgba(60, 64, 67, 0.3), 0px 1px 3px 1px rgba(60, 64, 67, 0.15);\n",
              "      fill: #174EA6;\n",
              "    }\n",
              "\n",
              "    [theme=dark] .colab-df-convert {\n",
              "      background-color: #3B4455;\n",
              "      fill: #D2E3FC;\n",
              "    }\n",
              "\n",
              "    [theme=dark] .colab-df-convert:hover {\n",
              "      background-color: #434B5C;\n",
              "      box-shadow: 0px 1px 3px 1px rgba(0, 0, 0, 0.15);\n",
              "      filter: drop-shadow(0px 1px 2px rgba(0, 0, 0, 0.3));\n",
              "      fill: #FFFFFF;\n",
              "    }\n",
              "  </style>\n",
              "\n",
              "      <script>\n",
              "        const buttonEl =\n",
              "          document.querySelector('#df-a867b4c2-79c8-44c5-87c5-9ce3a6574391 button.colab-df-convert');\n",
              "        buttonEl.style.display =\n",
              "          google.colab.kernel.accessAllowed ? 'block' : 'none';\n",
              "\n",
              "        async function convertToInteractive(key) {\n",
              "          const element = document.querySelector('#df-a867b4c2-79c8-44c5-87c5-9ce3a6574391');\n",
              "          const dataTable =\n",
              "            await google.colab.kernel.invokeFunction('convertToInteractive',\n",
              "                                                     [key], {});\n",
              "          if (!dataTable) return;\n",
              "\n",
              "          const docLinkHtml = 'Like what you see? Visit the ' +\n",
              "            '<a target=\"_blank\" href=https://colab.research.google.com/notebooks/data_table.ipynb>data table notebook</a>'\n",
              "            + ' to learn more about interactive tables.';\n",
              "          element.innerHTML = '';\n",
              "          dataTable['output_type'] = 'display_data';\n",
              "          await google.colab.output.renderOutput(dataTable, element);\n",
              "          const docLink = document.createElement('div');\n",
              "          docLink.innerHTML = docLinkHtml;\n",
              "          element.appendChild(docLink);\n",
              "        }\n",
              "      </script>\n",
              "    </div>\n",
              "  </div>\n",
              "  "
            ]
          },
          "metadata": {},
          "execution_count": 6
        }
      ]
    },
    {
      "cell_type": "code",
      "source": [
        "dataset.isnull().sum()"
      ],
      "metadata": {
        "colab": {
          "base_uri": "https://localhost:8080/"
        },
        "id": "ZWu1NNWwrrUX",
        "outputId": "0ab22e72-cb17-4774-916e-a75675312bb7"
      },
      "execution_count": 7,
      "outputs": [
        {
          "output_type": "execute_result",
          "data": {
            "text/plain": [
              "sepal-length    0\n",
              "sepal-width     0\n",
              "petal-length    0\n",
              "petal-width     0\n",
              "Class           0\n",
              "dtype: int64"
            ]
          },
          "metadata": {},
          "execution_count": 7
        }
      ]
    },
    {
      "cell_type": "code",
      "source": [
        "X=dataset.iloc[:,:-1].values\n",
        "y=dataset.iloc[:,4].values"
      ],
      "metadata": {
        "id": "DPDla-Dvs6xV"
      },
      "execution_count": 10,
      "outputs": []
    },
    {
      "cell_type": "code",
      "source": [
        "from sklearn.model_selection import train_test_split\n",
        "\n",
        "X_train, X_test,y_train,y_test=train_test_split(X,y,test_size=0.20)\n"
      ],
      "metadata": {
        "id": "E2dNa6SOrrXx"
      },
      "execution_count": 11,
      "outputs": []
    },
    {
      "cell_type": "code",
      "source": [
        "from sklearn.preprocessing import StandardScaler\n",
        "scaler=StandardScaler()\n",
        "scaler.fit(X_train)\n",
        "\n",
        "X_train=scaler.transform(X_train)\n",
        "X_test=scaler.transform(X_test)"
      ],
      "metadata": {
        "id": "vAyv4u0Brrbe"
      },
      "execution_count": 12,
      "outputs": []
    },
    {
      "cell_type": "code",
      "source": [
        "X_train"
      ],
      "metadata": {
        "colab": {
          "base_uri": "https://localhost:8080/"
        },
        "id": "vyyWzQFhrre-",
        "outputId": "d7b73762-9396-40aa-c209-5b63e85cdf68"
      },
      "execution_count": 13,
      "outputs": [
        {
          "output_type": "execute_result",
          "data": {
            "text/plain": [
              "array([[-9.96366730e-01, -1.80308386e+00, -2.52198534e-01,\n",
              "        -2.60818998e-01],\n",
              "       [-1.11641091e+00,  1.37454823e-01, -1.27616251e+00,\n",
              "        -1.42963442e+00],\n",
              "       [ 8.40309291e-02, -1.05112512e-01,  7.71765438e-01,\n",
              "         7.78128047e-01],\n",
              "       [ 2.48491462e+00,  1.83542617e+00,  1.51129497e+00,\n",
              "         1.03786481e+00],\n",
              "       [ 5.64207667e-01,  8.65156829e-01,  1.05619988e+00,\n",
              "         1.55733833e+00],\n",
              "       [-7.56278362e-01,  2.56312818e+00, -1.27616251e+00,\n",
              "        -1.42963442e+00],\n",
              "       [-3.60132553e-02, -5.90247182e-01,  7.71765438e-01,\n",
              "         1.55733833e+00],\n",
              "       [-3.96145808e-01, -1.56051652e+00, -2.46509845e-02,\n",
              "        -2.60818998e-01],\n",
              "       [-2.76101624e-01, -3.47679847e-01, -8.15378719e-02,\n",
              "         1.28786144e-01],\n",
              "       [-1.71663184e+00,  3.80022159e-01, -1.38993628e+00,\n",
              "        -1.29976604e+00],\n",
              "       [-1.23645510e+00, -1.05112512e-01, -1.33304939e+00,\n",
              "        -1.16989766e+00],\n",
              "       [-1.59658765e+00, -1.80308386e+00, -1.38993628e+00,\n",
              "        -1.16989766e+00],\n",
              "       [ 8.04296035e-01, -1.05112512e-01,  8.28652326e-01,\n",
              "         1.03786481e+00],\n",
              "       [ 2.24482625e+00,  1.83542617e+00,  1.68195564e+00,\n",
              "         1.29760157e+00],\n",
              "       [ 6.84251851e-01, -8.32814518e-01,  8.85539213e-01,\n",
              "         9.07996428e-01],\n",
              "       [ 6.84251851e-01,  3.80022159e-01,  4.30444114e-01,\n",
              "         3.88522905e-01],\n",
              "       [-3.96145808e-01, -1.56051652e+00,  3.22359028e-02,\n",
              "        -1.30950617e-01],\n",
              "       [ 1.04438440e+00,  6.22589494e-01,  1.11308676e+00,\n",
              "         1.16773319e+00],\n",
              "       [ 8.04296035e-01, -1.05112512e-01,  9.99312988e-01,\n",
              "         7.78128047e-01],\n",
              "       [ 9.24340220e-01, -1.05112512e-01,  3.73557227e-01,\n",
              "         2.58654525e-01],\n",
              "       [ 1.64460533e+00,  3.80022159e-01,  1.28374742e+00,\n",
              "         7.78128047e-01],\n",
              "       [ 1.88469369e+00, -5.90247182e-01,  1.34063431e+00,\n",
              "         9.07996428e-01],\n",
              "       [-3.96145808e-01, -1.80308386e+00,  1.46009678e-01,\n",
              "         1.28786144e-01],\n",
              "       [-1.71663184e+00, -3.47679847e-01, -1.33304939e+00,\n",
              "        -1.29976604e+00],\n",
              "       [-9.96366730e-01,  3.80022159e-01, -1.44682317e+00,\n",
              "        -1.29976604e+00],\n",
              "       [ 1.04438440e+00,  1.37454823e-01,  5.44217889e-01,\n",
              "         3.88522905e-01],\n",
              "       [ 1.16442859e+00, -1.05112512e-01,  9.99312988e-01,\n",
              "         1.16773319e+00],\n",
              "       [ 4.44163482e-01,  8.65156829e-01,  9.42426101e-01,\n",
              "         1.42746995e+00],\n",
              "       [-9.96366730e-01,  6.22589494e-01, -1.33304939e+00,\n",
              "        -1.29976604e+00],\n",
              "       [ 2.04075113e-01, -3.47679847e-01,  4.30444114e-01,\n",
              "         3.88522905e-01],\n",
              "       [-1.23645510e+00,  1.37454823e-01, -1.21927562e+00,\n",
              "        -1.29976604e+00],\n",
              "       [-1.23645510e+00,  8.65156829e-01, -1.04861496e+00,\n",
              "        -1.29976604e+00],\n",
              "       [-2.76101624e-01, -8.32814518e-01,  2.59783452e-01,\n",
              "         1.28786144e-01],\n",
              "       [-7.56278362e-01,  8.65156829e-01, -1.33304939e+00,\n",
              "        -1.29976604e+00],\n",
              "       [-1.11641091e+00,  1.37454823e-01, -1.27616251e+00,\n",
              "        -1.42963442e+00],\n",
              "       [ 1.04438440e+00, -1.31794919e+00,  1.16997365e+00,\n",
              "         7.78128047e-01],\n",
              "       [-9.96366730e-01,  8.65156829e-01, -1.21927562e+00,\n",
              "        -1.04002928e+00],\n",
              "       [ 8.04296035e-01,  3.80022159e-01,  7.71765438e-01,\n",
              "         1.03786481e+00],\n",
              "       [ 5.64207667e-01,  6.22589494e-01,  1.28374742e+00,\n",
              "         1.68720671e+00],\n",
              "       [ 6.84251851e-01,  3.80022159e-01,  8.85539213e-01,\n",
              "         1.42746995e+00],\n",
              "       [-3.96145808e-01,  1.10772416e+00, -1.38993628e+00,\n",
              "        -1.29976604e+00],\n",
              "       [-8.76322546e-01,  1.10772416e+00, -1.33304939e+00,\n",
              "        -1.16989766e+00],\n",
              "       [-1.35649928e+00,  3.80022159e-01, -1.21927562e+00,\n",
              "        -1.29976604e+00],\n",
              "       [ 2.04075113e-01, -2.04565119e+00,  1.46009678e-01,\n",
              "        -2.60818998e-01],\n",
              "       [-8.76322546e-01,  6.22589494e-01, -1.16238873e+00,\n",
              "        -9.10160901e-01],\n",
              "       [-5.16189993e-01,  8.65156829e-01, -1.27616251e+00,\n",
              "        -1.04002928e+00],\n",
              "       [-1.35649928e+00,  3.80022159e-01, -1.38993628e+00,\n",
              "        -1.29976604e+00],\n",
              "       [ 6.84251851e-01, -5.90247182e-01,  1.05619988e+00,\n",
              "         1.16773319e+00],\n",
              "       [ 2.04075113e-01, -1.05112512e-01,  6.01104776e-01,\n",
              "         7.78128047e-01],\n",
              "       [-2.76101624e-01, -1.31794919e+00,  8.91227902e-02,\n",
              "        -1.30950617e-01],\n",
              "       [-1.56057440e-01, -5.90247182e-01,  4.30444114e-01,\n",
              "         1.28786144e-01],\n",
              "       [ 1.28447277e+00,  3.80022159e-01,  1.11308676e+00,\n",
              "         1.42746995e+00],\n",
              "       [-9.96366730e-01,  1.10772416e+00, -1.38993628e+00,\n",
              "        -1.16989766e+00],\n",
              "       [ 3.24119298e-01, -1.07538185e+00,  1.05619988e+00,\n",
              "         2.58654525e-01],\n",
              "       [ 5.64207667e-01, -1.31794919e+00,  7.14878551e-01,\n",
              "         9.07996428e-01],\n",
              "       [ 1.04438440e+00, -1.05112512e-01,  8.28652326e-01,\n",
              "         1.42746995e+00],\n",
              "       [-1.47654347e+00,  8.65156829e-01, -1.33304939e+00,\n",
              "        -1.16989766e+00],\n",
              "       [-8.76322546e-01,  1.83542617e+00, -1.27616251e+00,\n",
              "        -1.16989766e+00],\n",
              "       [ 9.24340220e-01, -3.47679847e-01,  4.87331002e-01,\n",
              "         1.28786144e-01],\n",
              "       [ 5.64207667e-01, -5.90247182e-01,  7.71765438e-01,\n",
              "         3.88522905e-01],\n",
              "       [ 4.44163482e-01, -5.90247182e-01,  6.01104776e-01,\n",
              "         7.78128047e-01],\n",
              "       [ 1.04438440e+00, -1.05112512e-01,  7.14878551e-01,\n",
              "         6.48259667e-01],\n",
              "       [ 4.44163482e-01, -2.04565119e+00,  4.30444114e-01,\n",
              "         3.88522905e-01],\n",
              "       [ 1.16442859e+00, -5.90247182e-01,  6.01104776e-01,\n",
              "         2.58654525e-01],\n",
              "       [-3.60132553e-02, -8.32814518e-01,  7.71765438e-01,\n",
              "         9.07996428e-01],\n",
              "       [ 8.04296035e-01, -1.05112512e-01,  1.16997365e+00,\n",
              "         1.29760157e+00],\n",
              "       [ 1.04438440e+00,  6.22589494e-01,  1.11308676e+00,\n",
              "         1.68720671e+00],\n",
              "       [-2.76101624e-01, -5.90247182e-01,  6.57991664e-01,\n",
              "         1.03786481e+00],\n",
              "       [ 1.16442859e+00,  3.80022159e-01,  1.22686054e+00,\n",
              "         1.42746995e+00],\n",
              "       [ 3.24119298e-01, -5.90247182e-01,  5.44217889e-01,\n",
              "        -1.08223651e-03],\n",
              "       [-9.96366730e-01,  1.10772416e+00, -1.21927562e+00,\n",
              "        -7.80292520e-01],\n",
              "       [ 1.04438440e+00,  1.37454823e-01,  1.05619988e+00,\n",
              "         1.55733833e+00],\n",
              "       [ 1.64460533e+00, -1.05112512e-01,  1.16997365e+00,\n",
              "         5.18391286e-01],\n",
              "       [-5.16189993e-01,  1.59285883e+00, -1.27616251e+00,\n",
              "        -1.29976604e+00],\n",
              "       [ 5.64207667e-01, -1.31794919e+00,  6.57991664e-01,\n",
              "         3.88522905e-01],\n",
              "       [-9.96366730e-01, -2.53078586e+00, -1.38424759e-01,\n",
              "        -2.60818998e-01],\n",
              "       [ 3.24119298e-01, -1.05112512e-01,  4.87331002e-01,\n",
              "         2.58654525e-01],\n",
              "       [-1.23645510e+00,  8.65156829e-01, -1.21927562e+00,\n",
              "        -1.29976604e+00],\n",
              "       [ 8.40309291e-02,  3.80022159e-01,  6.01104776e-01,\n",
              "         7.78128047e-01],\n",
              "       [ 6.84251851e-01, -3.47679847e-01,  3.16670340e-01,\n",
              "         1.28786144e-01],\n",
              "       [-9.96366730e-01,  8.65156829e-01, -1.27616251e+00,\n",
              "        -1.29976604e+00],\n",
              "       [-1.71663184e+00, -1.05112512e-01, -1.38993628e+00,\n",
              "        -1.29976604e+00],\n",
              "       [ 2.24482625e+00, -1.07538185e+00,  1.79572941e+00,\n",
              "         1.42746995e+00],\n",
              "       [-8.76322546e-01,  1.10772416e+00, -1.33304939e+00,\n",
              "        -1.29976604e+00],\n",
              "       [-3.96145808e-01, -1.07538185e+00,  3.73557227e-01,\n",
              "        -1.08223651e-03],\n",
              "       [-1.83667602e+00, -1.05112512e-01, -1.50371006e+00,\n",
              "        -1.42963442e+00],\n",
              "       [ 2.04075113e-01, -8.32814518e-01,  7.71765438e-01,\n",
              "         5.18391286e-01],\n",
              "       [ 5.64207667e-01,  6.22589494e-01,  5.44217889e-01,\n",
              "         5.18391286e-01],\n",
              "       [ 1.64460533e+00,  1.35029150e+00,  1.34063431e+00,\n",
              "         1.68720671e+00],\n",
              "       [ 6.84251851e-01, -5.90247182e-01,  1.05619988e+00,\n",
              "         1.29760157e+00],\n",
              "       [-5.16189993e-01, -1.05112512e-01,  4.30444114e-01,\n",
              "         3.88522905e-01],\n",
              "       [-9.96366730e-01,  1.35029150e+00, -1.33304939e+00,\n",
              "        -1.29976604e+00],\n",
              "       [-3.96145808e-01,  2.80569551e+00, -1.33304939e+00,\n",
              "        -1.29976604e+00],\n",
              "       [ 1.40451696e+00,  3.80022159e-01,  5.44217889e-01,\n",
              "         2.58654525e-01],\n",
              "       [-1.56057440e-01, -3.47679847e-01,  2.59783452e-01,\n",
              "         1.28786144e-01],\n",
              "       [-7.56278362e-01,  1.10772416e+00, -1.27616251e+00,\n",
              "        -1.29976604e+00],\n",
              "       [-3.60132553e-02, -8.32814518e-01,  8.91227902e-02,\n",
              "        -1.08223651e-03],\n",
              "       [ 3.24119298e-01, -5.90247182e-01,  1.46009678e-01,\n",
              "         1.28786144e-01],\n",
              "       [ 8.04296035e-01, -5.90247182e-01,  4.87331002e-01,\n",
              "         3.88522905e-01],\n",
              "       [ 1.28447277e+00,  1.37454823e-01,  6.57991664e-01,\n",
              "         3.88522905e-01],\n",
              "       [ 1.28447277e+00,  1.37454823e-01,  9.42426101e-01,\n",
              "         1.16773319e+00],\n",
              "       [-1.47654347e+00,  1.37454823e-01, -1.27616251e+00,\n",
              "        -1.29976604e+00],\n",
              "       [ 2.24482625e+00, -1.05112512e-01,  1.34063431e+00,\n",
              "         1.42746995e+00],\n",
              "       [-8.76322546e-01,  1.83542617e+00, -1.21927562e+00,\n",
              "        -1.29976604e+00],\n",
              "       [-1.56057440e-01, -5.90247182e-01,  2.02896565e-01,\n",
              "         1.28786144e-01],\n",
              "       [-8.76322546e-01,  1.59285883e+00, -1.27616251e+00,\n",
              "        -1.04002928e+00],\n",
              "       [-1.47654347e+00,  1.35029150e+00, -1.56059694e+00,\n",
              "        -1.29976604e+00],\n",
              "       [-8.76322546e-01, -1.31794919e+00, -4.22859196e-01,\n",
              "        -1.30950617e-01],\n",
              "       [ 1.04438440e+00,  1.37454823e-01,  3.73557227e-01,\n",
              "         2.58654525e-01],\n",
              "       [-1.56057440e-01, -1.05112512e-01,  2.59783452e-01,\n",
              "        -1.08223651e-03],\n",
              "       [-8.76322546e-01,  8.65156829e-01, -1.27616251e+00,\n",
              "        -1.29976604e+00],\n",
              "       [ 3.24119298e-01, -3.47679847e-01,  5.44217889e-01,\n",
              "         2.58654525e-01],\n",
              "       [-1.56057440e-01, -1.07538185e+00, -1.38424759e-01,\n",
              "        -2.60818998e-01],\n",
              "       [-1.11641091e+00, -1.05112512e-01, -1.33304939e+00,\n",
              "        -1.29976604e+00],\n",
              "       [-3.96145808e-01, -1.31794919e+00,  1.46009678e-01,\n",
              "         1.28786144e-01],\n",
              "       [ 5.64207667e-01, -1.80308386e+00,  3.73557227e-01,\n",
              "         1.28786144e-01],\n",
              "       [-1.11641091e+00,  1.37454823e-01, -1.27616251e+00,\n",
              "        -1.42963442e+00],\n",
              "       [-7.56278362e-01, -8.32814518e-01,  8.91227902e-02,\n",
              "         2.58654525e-01],\n",
              "       [-3.60132553e-02, -8.32814518e-01,  7.71765438e-01,\n",
              "         9.07996428e-01],\n",
              "       [-5.16189993e-01,  2.07799351e+00, -1.38993628e+00,\n",
              "        -1.04002928e+00]])"
            ]
          },
          "metadata": {},
          "execution_count": 13
        }
      ]
    },
    {
      "cell_type": "code",
      "source": [
        "X_test"
      ],
      "metadata": {
        "colab": {
          "base_uri": "https://localhost:8080/"
        },
        "id": "46Kk0MWHtmyy",
        "outputId": "c4437577-8efa-4521-f80a-a186bb926385"
      },
      "execution_count": 14,
      "outputs": [
        {
          "output_type": "execute_result",
          "data": {
            "text/plain": [
              "array([[ 5.64207667e-01, -3.47679847e-01,  1.05619988e+00,\n",
              "         7.78128047e-01],\n",
              "       [ 1.52456114e+00, -1.05112512e-01,  1.22686054e+00,\n",
              "         1.16773319e+00],\n",
              "       [-2.76101624e-01, -1.05112512e-01,  4.30444114e-01,\n",
              "         3.88522905e-01],\n",
              "       [-1.56057440e-01,  3.29083018e+00, -1.27616251e+00,\n",
              "        -1.04002928e+00],\n",
              "       [-3.60132553e-02,  2.32056084e+00, -1.44682317e+00,\n",
              "        -1.29976604e+00],\n",
              "       [-1.11641091e+00, -1.31794919e+00,  4.30444114e-01,\n",
              "         6.48259667e-01],\n",
              "       [-9.96366730e-01, -1.05112512e-01, -1.21927562e+00,\n",
              "        -1.29976604e+00],\n",
              "       [ 8.40309291e-02, -1.05112512e-01,  2.59783452e-01,\n",
              "         3.88522905e-01],\n",
              "       [-1.47654347e+00,  3.80022159e-01, -1.33304939e+00,\n",
              "        -1.29976604e+00],\n",
              "       [-3.60132553e-02, -1.07538185e+00,  1.46009678e-01,\n",
              "        -1.08223651e-03],\n",
              "       [ 1.76464951e+00, -3.47679847e-01,  1.45440809e+00,\n",
              "         7.78128047e-01],\n",
              "       [ 2.24482625e+00, -5.90247182e-01,  1.68195564e+00,\n",
              "         1.03786481e+00],\n",
              "       [-1.56057440e-01, -1.31794919e+00,  7.14878551e-01,\n",
              "         1.03786481e+00],\n",
              "       [ 3.24119298e-01, -1.05112512e-01,  6.57991664e-01,\n",
              "         7.78128047e-01],\n",
              "       [ 2.04075113e-01, -2.04565119e+00,  7.14878551e-01,\n",
              "         3.88522905e-01],\n",
              "       [ 6.84251851e-01,  1.37454823e-01,  9.99312988e-01,\n",
              "         7.78128047e-01],\n",
              "       [-8.76322546e-01,  1.83542617e+00, -1.04861496e+00,\n",
              "        -1.04002928e+00],\n",
              "       [-5.16189993e-01,  8.65156829e-01, -1.16238873e+00,\n",
              "        -1.29976604e+00],\n",
              "       [ 5.64207667e-01, -8.32814518e-01,  6.57991664e-01,\n",
              "         7.78128047e-01],\n",
              "       [ 1.28447277e+00,  1.37454823e-01,  7.71765438e-01,\n",
              "         1.42746995e+00],\n",
              "       [ 2.04075113e-01,  8.65156829e-01,  4.30444114e-01,\n",
              "         5.18391286e-01],\n",
              "       [-5.16189993e-01,  2.07799351e+00, -1.16238873e+00,\n",
              "        -1.04002928e+00],\n",
              "       [-1.11641091e+00, -1.56051652e+00, -2.52198534e-01,\n",
              "        -2.60818998e-01],\n",
              "       [ 2.12478206e+00, -1.05112512e-01,  1.62506875e+00,\n",
              "         1.16773319e+00],\n",
              "       [-1.23645510e+00, -1.05112512e-01, -1.33304939e+00,\n",
              "        -1.42963442e+00],\n",
              "       [-1.56057440e-01,  1.83542617e+00, -1.16238873e+00,\n",
              "        -1.16989766e+00],\n",
              "       [-3.60132553e-02, -8.32814518e-01,  2.02896565e-01,\n",
              "        -2.60818998e-01],\n",
              "       [ 4.44163482e-01, -3.47679847e-01,  3.16670340e-01,\n",
              "         1.28786144e-01],\n",
              "       [-2.76101624e-01, -1.05112512e-01,  2.02896565e-01,\n",
              "         1.28786144e-01],\n",
              "       [-6.36234177e-01,  1.59285883e+00, -1.27616251e+00,\n",
              "        -1.29976604e+00]])"
            ]
          },
          "metadata": {},
          "execution_count": 14
        }
      ]
    },
    {
      "cell_type": "code",
      "source": [
        "from sklearn.neighbors import KNeighborsClassifier\n",
        "classifier=KNeighborsClassifier(n_neighbors=5)\n",
        "classifier.fit(X_train,y_train)"
      ],
      "metadata": {
        "colab": {
          "base_uri": "https://localhost:8080/",
          "height": 74
        },
        "id": "v7-5eIj4uAbd",
        "outputId": "2118daa9-18bd-41e0-f0a6-1e479187c17d"
      },
      "execution_count": 17,
      "outputs": [
        {
          "output_type": "execute_result",
          "data": {
            "text/plain": [
              "KNeighborsClassifier()"
            ],
            "text/html": [
              "<style>#sk-container-id-1 {color: black;background-color: white;}#sk-container-id-1 pre{padding: 0;}#sk-container-id-1 div.sk-toggleable {background-color: white;}#sk-container-id-1 label.sk-toggleable__label {cursor: pointer;display: block;width: 100%;margin-bottom: 0;padding: 0.3em;box-sizing: border-box;text-align: center;}#sk-container-id-1 label.sk-toggleable__label-arrow:before {content: \"▸\";float: left;margin-right: 0.25em;color: #696969;}#sk-container-id-1 label.sk-toggleable__label-arrow:hover:before {color: black;}#sk-container-id-1 div.sk-estimator:hover label.sk-toggleable__label-arrow:before {color: black;}#sk-container-id-1 div.sk-toggleable__content {max-height: 0;max-width: 0;overflow: hidden;text-align: left;background-color: #f0f8ff;}#sk-container-id-1 div.sk-toggleable__content pre {margin: 0.2em;color: black;border-radius: 0.25em;background-color: #f0f8ff;}#sk-container-id-1 input.sk-toggleable__control:checked~div.sk-toggleable__content {max-height: 200px;max-width: 100%;overflow: auto;}#sk-container-id-1 input.sk-toggleable__control:checked~label.sk-toggleable__label-arrow:before {content: \"▾\";}#sk-container-id-1 div.sk-estimator input.sk-toggleable__control:checked~label.sk-toggleable__label {background-color: #d4ebff;}#sk-container-id-1 div.sk-label input.sk-toggleable__control:checked~label.sk-toggleable__label {background-color: #d4ebff;}#sk-container-id-1 input.sk-hidden--visually {border: 0;clip: rect(1px 1px 1px 1px);clip: rect(1px, 1px, 1px, 1px);height: 1px;margin: -1px;overflow: hidden;padding: 0;position: absolute;width: 1px;}#sk-container-id-1 div.sk-estimator {font-family: monospace;background-color: #f0f8ff;border: 1px dotted black;border-radius: 0.25em;box-sizing: border-box;margin-bottom: 0.5em;}#sk-container-id-1 div.sk-estimator:hover {background-color: #d4ebff;}#sk-container-id-1 div.sk-parallel-item::after {content: \"\";width: 100%;border-bottom: 1px solid gray;flex-grow: 1;}#sk-container-id-1 div.sk-label:hover label.sk-toggleable__label {background-color: #d4ebff;}#sk-container-id-1 div.sk-serial::before {content: \"\";position: absolute;border-left: 1px solid gray;box-sizing: border-box;top: 0;bottom: 0;left: 50%;z-index: 0;}#sk-container-id-1 div.sk-serial {display: flex;flex-direction: column;align-items: center;background-color: white;padding-right: 0.2em;padding-left: 0.2em;position: relative;}#sk-container-id-1 div.sk-item {position: relative;z-index: 1;}#sk-container-id-1 div.sk-parallel {display: flex;align-items: stretch;justify-content: center;background-color: white;position: relative;}#sk-container-id-1 div.sk-item::before, #sk-container-id-1 div.sk-parallel-item::before {content: \"\";position: absolute;border-left: 1px solid gray;box-sizing: border-box;top: 0;bottom: 0;left: 50%;z-index: -1;}#sk-container-id-1 div.sk-parallel-item {display: flex;flex-direction: column;z-index: 1;position: relative;background-color: white;}#sk-container-id-1 div.sk-parallel-item:first-child::after {align-self: flex-end;width: 50%;}#sk-container-id-1 div.sk-parallel-item:last-child::after {align-self: flex-start;width: 50%;}#sk-container-id-1 div.sk-parallel-item:only-child::after {width: 0;}#sk-container-id-1 div.sk-dashed-wrapped {border: 1px dashed gray;margin: 0 0.4em 0.5em 0.4em;box-sizing: border-box;padding-bottom: 0.4em;background-color: white;}#sk-container-id-1 div.sk-label label {font-family: monospace;font-weight: bold;display: inline-block;line-height: 1.2em;}#sk-container-id-1 div.sk-label-container {text-align: center;}#sk-container-id-1 div.sk-container {/* jupyter's `normalize.less` sets `[hidden] { display: none; }` but bootstrap.min.css set `[hidden] { display: none !important; }` so we also need the `!important` here to be able to override the default hidden behavior on the sphinx rendered scikit-learn.org. See: https://github.com/scikit-learn/scikit-learn/issues/21755 */display: inline-block !important;position: relative;}#sk-container-id-1 div.sk-text-repr-fallback {display: none;}</style><div id=\"sk-container-id-1\" class=\"sk-top-container\"><div class=\"sk-text-repr-fallback\"><pre>KNeighborsClassifier()</pre><b>In a Jupyter environment, please rerun this cell to show the HTML representation or trust the notebook. <br />On GitHub, the HTML representation is unable to render, please try loading this page with nbviewer.org.</b></div><div class=\"sk-container\" hidden><div class=\"sk-item\"><div class=\"sk-estimator sk-toggleable\"><input class=\"sk-toggleable__control sk-hidden--visually\" id=\"sk-estimator-id-1\" type=\"checkbox\" checked><label for=\"sk-estimator-id-1\" class=\"sk-toggleable__label sk-toggleable__label-arrow\">KNeighborsClassifier</label><div class=\"sk-toggleable__content\"><pre>KNeighborsClassifier()</pre></div></div></div></div></div>"
            ]
          },
          "metadata": {},
          "execution_count": 17
        }
      ]
    },
    {
      "cell_type": "code",
      "source": [
        "y_pred=classifier.predict(X_test)"
      ],
      "metadata": {
        "id": "6JBvboXxtm-U"
      },
      "execution_count": 18,
      "outputs": []
    },
    {
      "cell_type": "code",
      "source": [
        "y_pred"
      ],
      "metadata": {
        "colab": {
          "base_uri": "https://localhost:8080/"
        },
        "id": "NrzTNQaxtnJ3",
        "outputId": "dc405284-d4ca-4604-8c8a-61b72ed5a002"
      },
      "execution_count": 19,
      "outputs": [
        {
          "output_type": "execute_result",
          "data": {
            "text/plain": [
              "array(['Iris-virginica', 'Iris-virginica', 'Iris-versicolor',\n",
              "       'Iris-setosa', 'Iris-setosa', 'Iris-versicolor', 'Iris-setosa',\n",
              "       'Iris-versicolor', 'Iris-setosa', 'Iris-versicolor',\n",
              "       'Iris-virginica', 'Iris-virginica', 'Iris-virginica',\n",
              "       'Iris-virginica', 'Iris-versicolor', 'Iris-virginica',\n",
              "       'Iris-setosa', 'Iris-setosa', 'Iris-virginica', 'Iris-virginica',\n",
              "       'Iris-versicolor', 'Iris-setosa', 'Iris-versicolor',\n",
              "       'Iris-virginica', 'Iris-setosa', 'Iris-setosa', 'Iris-versicolor',\n",
              "       'Iris-versicolor', 'Iris-versicolor', 'Iris-setosa'], dtype=object)"
            ]
          },
          "metadata": {},
          "execution_count": 19
        }
      ]
    },
    {
      "cell_type": "code",
      "source": [
        "from sklearn.metrics import classification_report ,confusion_matrix\n",
        "print(confusion_matrix(y_test,y_pred))\n",
        "print()\n",
        "print(\"*********************************************************************\")\n",
        "print()\n",
        "print(classification_report(y_test,y_pred))"
      ],
      "metadata": {
        "colab": {
          "base_uri": "https://localhost:8080/"
        },
        "id": "tnC_ja2ctnVQ",
        "outputId": "3026b7ad-fd9a-49a6-d136-8052d1a5317a"
      },
      "execution_count": 21,
      "outputs": [
        {
          "output_type": "stream",
          "name": "stdout",
          "text": [
            "[[10  0  0]\n",
            " [ 0  8  0]\n",
            " [ 0  2 10]]\n",
            "\n",
            "*********************************************************************\n",
            "\n",
            "                 precision    recall  f1-score   support\n",
            "\n",
            "    Iris-setosa       1.00      1.00      1.00        10\n",
            "Iris-versicolor       0.80      1.00      0.89         8\n",
            " Iris-virginica       1.00      0.83      0.91        12\n",
            "\n",
            "       accuracy                           0.93        30\n",
            "      macro avg       0.93      0.94      0.93        30\n",
            "   weighted avg       0.95      0.93      0.93        30\n",
            "\n"
          ]
        }
      ]
    },
    {
      "cell_type": "code",
      "source": [
        "error=[]\n",
        "\n",
        "for i in range(1,40):\n",
        "  knn=KNeighborsClassifier(n_neighbors=i)\n",
        "  knn.fit(X_train,y_train)\n",
        "  pred_i=knn.predict(X_test)\n",
        "  error.append(np.mean(pred_i != y_test))"
      ],
      "metadata": {
        "id": "Ze1V8UUWtnfe"
      },
      "execution_count": 26,
      "outputs": []
    },
    {
      "cell_type": "code",
      "source": [
        "plt.figure(figsize=(12,6))\n",
        "plt.plot(range(1,40),error,color='red',linestyle='dashed',marker='o',markerfacecolor='blue',markersize=10)\n",
        "plt.title('Error Rate K value')\n",
        "plt.xlabel('K value')\n",
        "plt.ylabel('Mean Error')"
      ],
      "metadata": {
        "colab": {
          "base_uri": "https://localhost:8080/",
          "height": 581
        },
        "id": "WZSRTulktnoz",
        "outputId": "36698695-0cbb-49b2-d841-5e63d0c5667b"
      },
      "execution_count": 28,
      "outputs": [
        {
          "output_type": "execute_result",
          "data": {
            "text/plain": [
              "Text(0, 0.5, 'Mean Error')"
            ]
          },
          "metadata": {},
          "execution_count": 28
        },
        {
          "output_type": "display_data",
          "data": {
            "text/plain": [
              "<Figure size 1200x600 with 1 Axes>"
            ],
            "image/png": "[encoded data removed]"
          },
          "metadata": {}
        }
      ]
    },
    {
      "cell_type": "code",
      "source": [],
      "metadata": {
        "id": "1EECF5esrrlk"
      },
      "execution_count": null,
      "outputs": []
    }
  ]
}